{
 "cells": [
  {
   "cell_type": "code",
   "execution_count": null,
   "metadata": {},
   "outputs": [],
   "source": [
    "import pandas as pd\n",
    "import matplotlib.pyplot as plt\n",
    "import seaborn as sns \n",
    "\n",
    "#importing the dataset\n",
    "iris_data = pd.read_csv('iris.csv') \n",
    "#solves the trucance issue\n",
    "pd.set_option('display.max_rows', 999)\n",
    "pd.set_option('display.max_columns', 999)\n",
    "pd.set_option('display.width', 999)\n",
    "#Outputs a summary of each variable to a single text file\n",
    "content = str(iris_data)\n",
    "print(content, file=open('variables_summary.txt', 'w'))     \n",
    "#creating histograms of variables\n",
    "#Sepal Length Histogram\n",
    "plt.hist(iris_data['sepal.length'], bins=7)\n",
    "plt.title('Sepal Length')\n",
    "plt.xlabel('Length')\n",
    "plt.ylabel('Frequency')\n",
    "plt.savefig('sepal_length_histogram.png')\n",
    "plt.show()\n",
    "#Sepal Width\n",
    "plt.hist(iris_data['sepal.width'], bins=5)\n",
    "plt.title('Sepal Width')\n",
    "plt.xlabel('Width')\n",
    "plt.ylabel('Frequency')\n",
    "plt.savefig('sepal_width_histogram.png')\n",
    "plt.show()\n",
    "#Petal Lenght\n",
    "plt.hist(iris_data['petal.length'], bins=6)\n",
    "plt.title('Petal Length')\n",
    "plt.xlabel('Length')\n",
    "plt.ylabel('Frequency')\n",
    "plt.savefig('petal_length_histogram.png')\n",
    "plt.show()\n",
    "#Petal Width\n",
    "plt.hist(iris_data['petal.width'], bins=6)\n",
    "plt.title('Petal Width')\n",
    "plt.xlabel('Width')\n",
    "plt.ylabel('Frequency')\n",
    "plt.savefig('petal_width_histogram.png')\n",
    "plt.show()\n",
    "\n",
    "#create a scatter plot for each pair of variables\n",
    "#Petal Width vs Petal Length\n",
    "sns.scatterplot(x='petal.length', y='petal.width',\n",
    "                hue='variety', data=iris_data, )\n",
    "plt.legend(bbox_to_anchor=(1, 1), loc=2) \n",
    "plt.show()\n",
    "\n",
    "#Sepal Width vs Sepal Length\n",
    "sns.scatterplot(x='sepal.length', y='sepal.width',\n",
    "                hue='variety', data=iris_data, )\n",
    "plt.legend(bbox_to_anchor=(1, 1), loc=2)\n",
    "plt.show()"
   ]
  },
  {
   "attachments": {},
   "cell_type": "markdown",
   "metadata": {},
   "source": [
    "exporting the variables to text file: similar to the 'Es' task. Need to give headings for the types. Headings resource found: https://www.geeksforgeeks.org/python-read-csv-using-pandas-read_csv/. update: once I used the csv version the files headings were created anyway. resources used to export: https://blog.finxter.com/python-convert-csv-to-text-file-csv-to-txt/. When exported the text file was shortened significantly. I learned about truncation and implemented the steps needed to prevent it. Reference used: https://nadeauinnovations.com/post/2021/05/python-tips-how-to-stop-a-pandas-data-table-from-being-truncated-when-printed/ "
   ]
  },
  {
   "attachments": {},
   "cell_type": "markdown",
   "metadata": {},
   "source": [
    "importing the dataset: \n",
    "best way was online. The in file ones were tempermental.alternative dataframe used in iris.cv. I realised (once again) that my terminal was in the wrong location for accessing the files I need. Once this was rectified, the importing and analysing of the data improved drastically. "
   ]
  }
 ],
 "metadata": {
  "kernelspec": {
   "display_name": "Python 3",
   "language": "python",
   "name": "python3"
  },
  "language_info": {
   "name": "python",
   "version": "3.10.11"
  },
  "orig_nbformat": 4
 },
 "nbformat": 4,
 "nbformat_minor": 2
}
