{
 "cells": [
  {
   "cell_type": "markdown",
   "id": "f4f70ef5",
   "metadata": {},
   "source": [
    "   # Pand Project Notebook"
   ]
  },
  {
   "cell_type": "markdown",
   "id": "efc1f68b",
   "metadata": {},
   "source": [
    "<img src=\"https://upload.wikimedia.org/wikipedia/commons/thumb/4/49/Iris_germanica_%28Purple_bearded_Iris%29%2C_Wakehurst_Place%2C_UK_-_Diliff.jpg/330px-Iris_germanica_%28Purple_bearded_Iris%29%2C_Wakehurst_Place%2C_UK_-_Diliff.jpg\">"
   ]
  },
  {
   "cell_type": "markdown",
   "id": "dd3d9ea1",
   "metadata": {},
   "source": [
    "**Project Description**:\n",
    "\n",
    "This project concerns the well-known Fisher’s Iris data set. You must research the data set\n",
    "and write documentation and code (in Python) to investigate it. An online search for\n",
    "information on the data set will convince you that many people have investigated it\n",
    "previously. You are expected to be able to break this project into several smaller tasks that\n",
    "are easier to solve, and to plug these together after they have been completed.\n",
    "\n",
    "You might do that for this project as follows:\n",
    "1. Research the data set online and write a summary about it in your README.\n",
    "2. Download the data set and add it to your repository.\n",
    "\n",
    "Write a program called analysis.py that:\n",
    "1. Outputs a summary of each variable to a single text file,\n",
    "2. Saves a histogram of each variable to png files, and\n",
    "3. Outputs a scatter plot of each pair of variables.\n",
    "4. Performs any other analysis you think is appropriate"
   ]
  },
  {
   "cell_type": "markdown",
   "id": "4aa8a97f",
   "metadata": {},
   "source": [
    "**Introduction:** \n",
    "\n",
    "Fisher's Iris data set is a famous multivariate data set introduced by the British statistician and biologist Ronald Fisher in 1936. The data set consists of measurements on the length and width of sepals and petals of three species of iris flowers: Setosa, Versicolor, and Virginica.\n",
    "\n",
    "There are 50 samples for each species, making a total of 150 samples. The measurements are in centimeters and consist of sepal length, sepal width, petal length, and petal width.\n",
    "\n",
    "The data set is often used for statistical analysis, visualization, and machine learning algorithms, such as classification and clustering. It is also used as a benchmark data set for evaluating new methods and algorithms.\n",
    "Fisher's Iris data set is considered a classic example of exploratory data analysis and is widely used in data science education and research.\n",
    "\n",
    "References: https://www.angela1c.com/projects/iris_project/the-iris-dataset/"
   ]
  },
  {
   "cell_type": "markdown",
   "id": "8df21452",
   "metadata": {},
   "source": [
    "**The Project**"
   ]
  },
  {
   "cell_type": "markdown",
   "id": "7f9177b8",
   "metadata": {},
   "source": [
    "Importing libraries:"
   ]
  },
  {
   "cell_type": "code",
   "execution_count": null,
   "id": "f26d0676",
   "metadata": {},
   "outputs": [],
   "source": [
    "import pandas as pd\n",
    "import matplotlib.pyplot as plt\n",
    "import seaborn as sns "
   ]
  },
  {
   "cell_type": "markdown",
   "id": "25a2d93e",
   "metadata": {},
   "source": [
    "*Pandas* is needed in the first section which imports the data. \n",
    "\n",
    "*Mattplotlib.pyplot* is needed to import the libraries needed to create the histograms.\n",
    "\n",
    "Although I began with using the *mattplotlib.pyplot* libraries and functions, I needed to improve the clarity upon further research the *seaborn* libraries and functions improved the issues greatly."
   ]
  },
  {
   "cell_type": "markdown",
   "id": "df700905",
   "metadata": {},
   "source": [
    "**Part One**: Outputs a summary of each variable to a single text file"
   ]
  },
  {
   "cell_type": "code",
   "execution_count": null,
   "id": "2cefad06",
   "metadata": {},
   "outputs": [],
   "source": [
    "#importing the dataset\n",
    "iris_data = pd.read_csv('iris.csv') "
   ]
  },
  {
   "cell_type": "markdown",
   "id": "22de74bd",
   "metadata": {},
   "source": [
    "This section of the code imports the dataframe from a file. I had learned this code from an earlier assignment during the weekly tasks. \n",
    "\n",
    "At first I thought the best way to import the dataset was using a URL as I found the files I had downloaded and discovered were tempermental and difficult to get in the correct order. Then upon, further research I discovered the dataframe *iris.cv* which \n",
    "I attempted to import but this would also not work.I then realised (once again) that my terminal was in the wrong location for accessing the files I need. Once this was rectified, the importing and analysing of the data improved drastically. "
   ]
  },
  {
   "cell_type": "code",
   "execution_count": null,
   "id": "aa336a4a",
   "metadata": {},
   "outputs": [],
   "source": [
    "#Outputs a summary of each variable to a single text file\n",
    "content = str(iris_data)\n",
    "print(content, file=open('variables_summary.txt', 'w'))     "
   ]
  },
  {
   "cell_type": "markdown",
   "id": "191d78a6",
   "metadata": {},
   "source": [
    "This section takes in the data and writes it to new text file within the same folder. Once again, the earlier weekly task featured this which helped me to put it together. \n",
    "\n",
    "I then faced the issue of the text file being shortened significantly. Upon invetigation, I realised the issue to be a trucance problem and found the solution here: https://nadeauinnovations.com/post/2021/05/python-tips-how-to-stop-a-pandas-data-table-from-being-truncated-when-printed/. \n",
    "\n",
    "I then added this code to rectify the issue as it extends the max columns, rows and width of the file:"
   ]
  },
  {
   "cell_type": "code",
   "execution_count": null,
   "id": "4e6ff2d6",
   "metadata": {},
   "outputs": [],
   "source": [
    "#solves the trucance issue\n",
    "pd.set_option('display.max_rows', 999)\n",
    "pd.set_option('display.max_columns', 999)\n",
    "pd.set_option('display.width', 999)"
   ]
  },
  {
   "cell_type": "markdown",
   "id": "329da09f",
   "metadata": {},
   "source": [
    "**Part 2**: Saves a histogram of each variable to png files "
   ]
  },
  {
   "cell_type": "markdown",
   "id": "f82fe577",
   "metadata": {},
   "source": [
    "I first created an individual histogram for each of the columns using matplot. \n",
    "\n",
    "I then updated the x and y axis and made it more readable i.e. put height along the side and width along the bottom for symmetry. \n",
    "\n",
    "After re-reading the project paramenters I realised I needed to save each histogram to a png file. I achieved this by adding the 'plot.savefig' function to each histogram.\n",
    "\n",
    "The code used:"
   ]
  },
  {
   "cell_type": "code",
   "execution_count": null,
   "id": "1d4a6d06",
   "metadata": {},
   "outputs": [],
   "source": [
    "#creating histograms of variables\n",
    "#Sepal Length Histogram\n",
    "plt.hist(iris_data['sepal.length'], bins=7)\n",
    "plt.title('Sepal Length')\n",
    "plt.xlabel('Length')\n",
    "plt.ylabel('Frequency')\n",
    "plt.savefig('sepal_length_histogram.png')\n",
    "plt.show()\n",
    "#Sepal Width\n",
    "plt.hist(iris_data['sepal.width'], bins=5)\n",
    "plt.title('Sepal Width')\n",
    "plt.xlabel('Width')\n",
    "plt.ylabel('Frequency')\n",
    "plt.savefig('sepal_width_histogram.png')\n",
    "plt.show()\n",
    "#Petal Lenght\n",
    "plt.hist(iris_data['petal.length'], bins=6)\n",
    "plt.title('Petal Length')\n",
    "plt.xlabel('Length')\n",
    "plt.ylabel('Frequency')\n",
    "plt.savefig('petal_length_histogram.png')\n",
    "plt.show()\n",
    "#Petal Width\n",
    "plt.hist(iris_data['petal.width'], bins=6)\n",
    "plt.title('Petal Width')\n",
    "plt.xlabel('Width')\n",
    "plt.ylabel('Frequency')\n",
    "plt.savefig('petal_width_histogram.png')\n",
    "plt.show()"
   ]
  },
  {
   "cell_type": "markdown",
   "id": "f4c1ec8e",
   "metadata": {},
   "source": [
    "As this is the longest section of the code I condsidered ways in which I may loop this code instead of doing each individual section. Upon research and learning I had pieced together this code:"
   ]
  },
  {
   "cell_type": "code",
   "execution_count": null,
   "id": "29e42873",
   "metadata": {},
   "outputs": [],
   "source": [
    "for col in iris_data.columns[:-1]:\n",
    "    plt.hist(iris_data[col], bins=10)\n",
    "    plt.title(col)\n",
    "    plt.xlabel('Measurement')\n",
    "    plt.ylabel('Frequency')\n",
    "    plt.savefig(f'{col}_histogram.png')\n",
    "    plt.show()"
   ]
  },
  {
   "cell_type": "markdown",
   "id": "43c42b82",
   "metadata": {},
   "source": [
    "Here each histogram is being created and lopped, creating a shorter code. This code uses the the *for col in iris_data.columns* to take each individual column itself and lopp through them, creating a histogram for each one, starting from [:-1] in the list. Their is a general bin is set to =10 in order to best include each columns data. The labels are measurement and frequency. At first I considered reverting to the original code I had created as it best explains the data being presented but instead I decided to include the meaning of each histogram in the Readme file. \n",
    "References used:\n",
    "https://stackoverflow.com/questions/62118646/i-loop-through-data-frame-graph-histogram-for-each-column-use-column-name-as-g\n",
    "https://stackoverflow.com/questions/62118646/i-loop-through-data-frame-graph-histogram-for-each-column-use-column-name-as-g"
   ]
  },
  {
   "cell_type": "markdown",
   "id": "f951261e",
   "metadata": {},
   "source": [
    "**Part Three**: Outputs a scatter plot of each pair of variables."
   ]
  },
  {
   "cell_type": "markdown",
   "id": "4c944eb8",
   "metadata": {},
   "source": [
    "Creating the scatterplots was a initially a similar task to the histogram assignment. The code looked as follows:"
   ]
  },
  {
   "cell_type": "code",
   "execution_count": null,
   "id": "26823959",
   "metadata": {},
   "outputs": [],
   "source": [
    "#create a scatter plot for each pair of variables\n",
    "plt.scatter(iris_data['sepal.length'], iris_data['sepal.width'])\n",
    "plt.title('Sepal Width vs Sepal Length')\n",
    "plt.xlabel('sepal.length')\n",
    "plt.ylabel('sepal.width')\n",
    "plt.show()"
   ]
  },
  {
   "cell_type": "markdown",
   "id": "623853a0",
   "metadata": {},
   "source": [
    "When the ouput of the scatterplots were created they were all the same colours and regardless of how I seemed to adjust it, it did not get more intiligable. my research led me to *Seaborn* libraries and I used these to establish a better understandable code along with a legend. I found this here: https://www.geeksforgeeks.org/exploratory-data-analysis-on-iris-dataset/. \n",
    "\n",
    "The code creates two scatterplots, with two legends and saves them to the folder. The finished code for the scatterplots: "
   ]
  },
  {
   "cell_type": "code",
   "execution_count": null,
   "id": "18fb7b58",
   "metadata": {},
   "outputs": [],
   "source": [
    "#create a scatter plot for each pair of variables\n",
    "#Petal Width vs Petal Length\n",
    "sns.scatterplot(x='petal.length', y='petal.width',\n",
    "                hue='variety', data=iris_data, )\n",
    "plt.legend(bbox_to_anchor=(1, 1), loc=2) \n",
    "plt.savefig('Scatterplot_petallength_petalwidth.png')\n",
    "plt.show()\n",
    "\n",
    "#Sepal Width vs Sepal Length\n",
    "sns.scatterplot(x='sepal.length', y='sepal.width',\n",
    "                hue='variety', data=iris_data, )\n",
    "plt.legend(bbox_to_anchor=(1, 1), loc=2)\n",
    "plt.savefig('Scatterplot_sepallength_sepalwidth.png')\n",
    "plt.show()"
   ]
  },
  {
   "cell_type": "markdown",
   "id": "5eb41b7c",
   "metadata": {},
   "source": [
    "**Part 4**: Performs any other analysis you think is appropriate"
   ]
  },
  {
   "cell_type": "markdown",
   "id": "ca64435c",
   "metadata": {},
   "source": [
    "            1. Creating a pairplot."
   ]
  },
  {
   "cell_type": "markdown",
   "id": "9fcf51af",
   "metadata": {},
   "source": [
    "When researching the task I a found a number useful analysis functions I wanted to include in this project. The first one being a pair plot, which compares the data found within the csv file:"
   ]
  },
  {
   "cell_type": "code",
   "execution_count": null,
   "id": "543e0f85",
   "metadata": {},
   "outputs": [],
   "source": [
    "sns.pairplot(iris_data.drop(['sepal.length'], axis = 1),\n",
    "             hue='variety', height=2)\n",
    "plt.legend(bbox_to_anchor=(1, 1), loc=2)\n",
    "plt.savefig('Pairplot.png')\n",
    "plt.show()"
   ]
  },
  {
   "cell_type": "markdown",
   "id": "1fe1aaaf",
   "metadata": {},
   "source": [
    "This code works similarly to the scatterplot code and uses the seaborn libraries to create a mutlit dimensional map of the data. I once again used the *plt.savefig* to save the file to the directory and the *plt.legend* to create a legend for easier interpretation."
   ]
  },
  {
   "cell_type": "markdown",
   "id": "ed199121",
   "metadata": {},
   "source": [
    "            2. Creating a Boxplot"
   ]
  },
  {
   "cell_type": "code",
   "execution_count": null,
   "id": "e4ba4c45",
   "metadata": {},
   "outputs": [],
   "source": []
  },
  {
   "cell_type": "markdown",
   "id": "d9c0f95b",
   "metadata": {},
   "source": [
    "          2. Saving each outputted file to a new directory"
   ]
  },
  {
   "cell_type": "markdown",
   "id": "5a869ff2",
   "metadata": {},
   "source": [
    "One of the most noticable things I noticed when creating this code was how meesy it becomes when the program is ran. After I had the mjority of the project completed I decided to send each png and txt output to a newly created folder. To achieve this I imported the *Os* libraries and then created the directory using the following code:"
   ]
  },
  {
   "cell_type": "code",
   "execution_count": null,
   "id": "e0d4dd88",
   "metadata": {},
   "outputs": [],
   "source": [
    "# Create a folder that keeps the output files\n",
    "if not os.path.exists('Results'):\n",
    "    os.makedirs('Results')"
   ]
  },
  {
   "cell_type": "markdown",
   "id": "8ddf4133",
   "metadata": {},
   "source": [
    "Following this, I needed to add 'Result/....' to the beginning of each file outputted. For example: "
   ]
  },
  {
   "cell_type": "code",
   "execution_count": null,
   "id": "51ff1f03",
   "metadata": {},
   "outputs": [],
   "source": [
    "print(content, file=open('Results/variables_summary.txt', 'w'))    "
   ]
  },
  {
   "cell_type": "markdown",
   "id": "45c44403",
   "metadata": {},
   "source": [
    "This tidied things up within the code and made access to the findings easier. It also seperates the program files from the output keeping it more organised. The skeleton of the code I used is found here: https://stackoverflow.com/questions/1274405/how-to-create-new-folder. Then in moving the file i used this code as a base: https://www.learndatasci.com/solutions/python-move-file/ "
   ]
  },
  {
   "cell_type": "code",
   "execution_count": null,
   "id": "5326db69",
   "metadata": {},
   "outputs": [],
   "source": []
  }
 ],
 "metadata": {
  "kernelspec": {
   "display_name": "Python 3 (ipykernel)",
   "language": "python",
   "name": "python3"
  },
  "language_info": {
   "codemirror_mode": {
    "name": "ipython",
    "version": 3
   },
   "file_extension": ".py",
   "mimetype": "text/x-python",
   "name": "python",
   "nbconvert_exporter": "python",
   "pygments_lexer": "ipython3",
   "version": "3.9.13"
  }
 },
 "nbformat": 4,
 "nbformat_minor": 5
}
