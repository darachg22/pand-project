{
 "cells": [
  {
   "cell_type": "markdown",
   "id": "9981a58c",
   "metadata": {},
   "source": [
    "   # Pand Project Notebook"
   ]
  },
  {
   "cell_type": "markdown",
   "id": "cd4642ae",
   "metadata": {},
   "source": [
    "<img src=\"https://upload.wikimedia.org/wikipedia/commons/thumb/4/49/Iris_germanica_%28Purple_bearded_Iris%29%2C_Wakehurst_Place%2C_UK_-_Diliff.jpg/330px-Iris_germanica_%28Purple_bearded_Iris%29%2C_Wakehurst_Place%2C_UK_-_Diliff.jpg\">"
   ]
  },
  {
   "cell_type": "markdown",
   "id": "3e9678dc",
   "metadata": {},
   "source": [
    "**Project Description**:\n",
    "\n",
    "This project concerns the well-known Fisher’s Iris data set. You must research the data set\n",
    "and write documentation and code (in Python) to investigate it. An online search for\n",
    "information on the data set will convince you that many people have investigated it\n",
    "previously. You are expected to be able to break this project into several smaller tasks that\n",
    "are easier to solve, and to plug these together after they have been completed.\n",
    "\n",
    "You might do that for this project as follows:\n",
    "1. Research the data set online and write a summary about it in your README.\n",
    "2. Download the data set and add it to your repository.\n",
    "\n",
    "Write a program called analysis.py that:\n",
    "1. Outputs a summary of each variable to a single text file,\n",
    "2. Saves a histogram of each variable to png files, and\n",
    "3. Outputs a scatter plot of each pair of variables.\n",
    "4. Performs any other analysis you think is appropriate"
   ]
  },
  {
   "cell_type": "markdown",
   "id": "3cae28e3",
   "metadata": {},
   "source": [
    "**Introduction:** \n",
    "\n",
    "Fisher's Iris data set is a famous multivariate data set introduced by the British statistician and biologist Ronald Fisher in 1936. The data set consists of measurements on the length and width of sepals and petals of three species of iris flowers: Setosa, Versicolor, and Virginica.\n",
    "\n",
    "There are 50 samples for each species, making a total of 150 samples. The measurements are in centimeters and consist of sepal length, sepal width, petal length, and petal width.\n",
    "\n",
    "The data set is often used for statistical analysis, visualization, and machine learning algorithms, such as classification and clustering. It is also used as a benchmark data set for evaluating new methods and algorithms.\n",
    "Fisher's Iris data set is considered a classic example of exploratory data analysis and is widely used in data science education and research.\n",
    "\n",
    "References: https://www.angela1c.com/projects/iris_project/the-iris-dataset/"
   ]
  },
  {
   "cell_type": "code",
   "execution_count": null,
   "id": "1c06364c",
   "metadata": {},
   "outputs": [],
   "source": []
  }
 ],
 "metadata": {
  "kernelspec": {
   "display_name": "Python 3 (ipykernel)",
   "language": "python",
   "name": "python3"
  },
  "language_info": {
   "codemirror_mode": {
    "name": "ipython",
    "version": 3
   },
   "file_extension": ".py",
   "mimetype": "text/x-python",
   "name": "python",
   "nbconvert_exporter": "python",
   "pygments_lexer": "ipython3",
   "version": "3.9.13"
  }
 },
 "nbformat": 4,
 "nbformat_minor": 5
}
